{
  "cells": [
    {
      "cell_type": "markdown",
      "metadata": {
        "colab_type": "text",
        "id": "view-in-github"
      },
      "source": [
        "<a href=\"https://colab.research.google.com/github/eugeneteoh/COMP6247-Reinforcement-Online-Learning/blob/master/lab_4/rbf_1.ipynb\" target=\"_parent\"><img src=\"https://colab.research.google.com/assets/colab-badge.svg\" alt=\"Open In Colab\"/></a>"
      ]
    },
    {
      "cell_type": "code",
      "execution_count": 2,
      "metadata": {
        "id": "yxm7czTZma39"
      },
      "outputs": [],
      "source": [
        "import pandas as pd\n",
        "import numpy as np\n",
        "import matplotlib.pyplot as plt\n",
        "from sklearn.preprocessing import StandardScaler\n",
        "from sklearn.model_selection import train_test_split\n",
        "from sklearn.metrics import mean_squared_error\n",
        "\n",
        "SEED = 42"
      ]
    },
    {
      "cell_type": "code",
      "execution_count": 3,
      "metadata": {
        "id": "eG4kqEwrmetG"
      },
      "outputs": [],
      "source": [
        "# https://archive.ics.uci.edu/ml/datasets/YearPredictionMSD\n",
        "# scaler = StandardScaler()\n",
        "X = np.loadtxt('https://archive.ics.uci.edu/ml/machine-learning-databases/00291/airfoil_self_noise.dat')\n",
        "X, y = X[:, :-1], X[:, -1]\n",
        "X_train, X_test, y_train, y_test = train_test_split(\n",
        "    X, y, test_size=0.2, random_state=SEED\n",
        ")\n",
        "# X_train = scaler.fit_transform(X_train)\n",
        "\n",
        "N = X_train.shape[0]"
      ]
    },
    {
      "cell_type": "markdown",
      "metadata": {
        "id": "VqY6kPyR5clU"
      },
      "source": [
        "# Linear"
      ]
    },
    {
      "cell_type": "code",
      "execution_count": 4,
      "metadata": {
        "id": "vZQSqJMf5e8x"
      },
      "outputs": [],
      "source": [
        "W = np.linalg.inv(X_train.T @ X_train) @ X_train.T @ y_train\n",
        "y_hat = X_train @ W"
      ]
    },
    {
      "cell_type": "code",
      "execution_count": 5,
      "metadata": {
        "colab": {
          "base_uri": "https://localhost:8080/"
        },
        "id": "N7xj_kq95iAY",
        "outputId": "9801c9e6-9e6a-4a9a-9a35-0e0005e82f92"
      },
      "outputs": [
        {
          "data": {
            "text/plain": "915.2883576634607"
          },
          "execution_count": 5,
          "metadata": {},
          "output_type": "execute_result"
        }
      ],
      "source": [
        "mean_squared_error(y_train, y_hat)"
      ]
    },
    {
      "cell_type": "markdown",
      "metadata": {
        "id": "mIvg3c_uRxLz"
      },
      "source": [
        "# Closed Form"
      ]
    },
    {
      "cell_type": "code",
      "execution_count": 6,
      "metadata": {
        "id": "J4fcuCl8SwR1"
      },
      "outputs": [],
      "source": [
        "def gaussian_func(alpha):\n",
        "    return np.exp(-alpha**2)"
      ]
    },
    {
      "cell_type": "code",
      "execution_count": 7,
      "metadata": {
        "id": "8kBUAjWDpYE7"
      },
      "outputs": [],
      "source": [
        "from sklearn.cluster import KMeans"
      ]
    },
    {
      "cell_type": "code",
      "execution_count": 8,
      "metadata": {
        "id": "nXxSX3doRrjv"
      },
      "outputs": [],
      "source": [
        "J = 20 # num of clusters\n",
        "kmeans = KMeans(n_clusters=J, random_state=SEED).fit(X_train)\n",
        "M = kmeans.cluster_centers_\n",
        "sigma = np.std(X_train)"
      ]
    },
    {
      "cell_type": "code",
      "execution_count": 9,
      "metadata": {
        "id": "0WDYDabQTlbt"
      },
      "outputs": [],
      "source": [
        "U = np.zeros((N, J))\n",
        "for i in range(N):\n",
        "    for j in range(J):\n",
        "        U[i, j] = gaussian_func(np.linalg.norm(X_train[i] - M[j]) / sigma)"
      ]
    },
    {
      "cell_type": "code",
      "execution_count": 10,
      "metadata": {
        "id": "KQ3E1S4MWYjF"
      },
      "outputs": [],
      "source": [
        "W = np.linalg.inv(U.T @ U) @ U.T @ y_train\n",
        "y_hat = U @ W"
      ]
    },
    {
      "cell_type": "code",
      "execution_count": 11,
      "metadata": {
        "colab": {
          "base_uri": "https://localhost:8080/"
        },
        "id": "1s1MZPVwazra",
        "outputId": "7ef34b30-2a16-430d-e177-9bab26aa8c4f"
      },
      "outputs": [
        {
          "data": {
            "text/plain": "35.33514630427382"
          },
          "execution_count": 11,
          "metadata": {},
          "output_type": "execute_result"
        }
      ],
      "source": [
        "mean_squared_error(y_train, y_hat)"
      ]
    },
    {
      "cell_type": "markdown",
      "metadata": {
        "id": "8kcB0D0B500V"
      },
      "source": [
        "# Gradient Descent"
      ]
    },
    {
      "cell_type": "code",
      "execution_count": 12,
      "metadata": {
        "id": "REhEh8Gg52LW"
      },
      "outputs": [],
      "source": [
        "\n",
        "epochs = 50000\n",
        "lr = 0.01\n",
        "\n",
        "W_iter = np.zeros((epochs, J))\n",
        "W_iter[0] = np.random.randn(J)\n",
        "\n",
        "mse_iter = np.zeros(epochs)\n",
        "mse_iter[0] = mean_squared_error(y_train, U @ W_iter[0])\n",
        "\n",
        "\n",
        "for epoch in range(1, epochs):\n",
        "    grad = - U.T @ (y_train - U @ W_iter[epoch-1]) / N\n",
        "    W_iter[epoch] = W_iter[epoch-1] - lr * grad\n",
        "    mse_iter[epoch] = mean_squared_error(y_train, U @ W_iter[epoch])"
      ]
    },
    {
      "cell_type": "code",
      "execution_count": 13,
      "metadata": {
        "id": "Q5H6x0n0-YPj"
      },
      "outputs": [],
      "source": [
        "mse_iter_gd = mse_iter"
      ]
    },
    {
      "cell_type": "code",
      "execution_count": 14,
      "metadata": {
        "colab": {
          "base_uri": "https://localhost:8080/"
        },
        "id": "KXs1F1yuM1P3",
        "outputId": "9571ee2f-991d-44d6-b755-73ae97d308c5"
      },
      "outputs": [
        {
          "name": "stdout",
          "output_type": "stream",
          "text": [
            "49999\n",
            "38.6355367542141\n"
          ]
        }
      ],
      "source": [
        "mse_argmin = np.argmin(mse_iter)\n",
        "print(mse_argmin)\n",
        "print(mse_iter[mse_argmin])"
      ]
    },
    {
      "cell_type": "code",
      "execution_count": 19,
      "metadata": {
        "colab": {
          "base_uri": "https://localhost:8080/",
          "height": 279
        },
        "id": "xYr8YMiW-_k-",
        "outputId": "b57bfe65-4b46-4a32-9588-35f933df156a"
      },
      "outputs": [
        {
          "data": {
            "image/png": "[encoded data removed]",
            "text/plain": "<Figure size 640x480 with 1 Axes>"
          },
          "metadata": {},
          "output_type": "display_data"
        }
      ],
      "source": [
        "plt.plot(mse_iter_gd)\n",
        "plt.yscale('symlog')\n",
        "plt.xlabel('Epoch')\n",
        "plt.ylabel('MSE')\n",
        "plt.savefig('gd-loss.pdf')\n",
        "plt.show()"
      ]
    },
    {
      "cell_type": "markdown",
      "metadata": {
        "id": "wt43XnuPC4xQ"
      },
      "source": [
        "# Stochastic Gradient Descent"
      ]
    },
    {
      "cell_type": "code",
      "execution_count": 20,
      "metadata": {
        "id": "HYYzMJgsQRcY"
      },
      "outputs": [],
      "source": [
        "from sklearn.utils import shuffle"
      ]
    },
    {
      "cell_type": "code",
      "execution_count": 21,
      "metadata": {
        "id": "XSUONE9W_yQ-"
      },
      "outputs": [],
      "source": [
        "\n",
        "epochs = 10000\n",
        "lr = 0.005\n",
        "batch_size = 128\n",
        "\n",
        "W_iter = []\n",
        "W_iter.append(np.random.randn(J))\n",
        "\n",
        "mse_iter = []\n",
        "mse_iter.append(mean_squared_error(y_train, U @ W_iter[0]))\n",
        "\n",
        "for epoch in range(1, epochs):\n",
        "    U_train, y_train = shuffle(U, y_train, random_state=SEED)\n",
        "    \n",
        "    for i in range(0, U_train.shape[0], batch_size):\n",
        "        U_train_mini = U_train[i:i+batch_size]\n",
        "        y_train_mini = y_train[i:i+batch_size]\n",
        "\n",
        "        grad = - U_train_mini.T @ (y_train_mini - U_train_mini @ W_iter[-1]) / batch_size\n",
        "        W_iter.append(W_iter[-1] - lr * grad)\n",
        "        # mse_iter.append(mean_squared_error(y_train_mini, U_train_mini @ W_iter[epoch]))\n",
        "    mse_iter.append(mean_squared_error(y_train, U_train @ W_iter[-1]))\n",
        "\n",
        "W_iter = np.array(W_iter)\n",
        "mse_iter = np.array(mse_iter)"
      ]
    },
    {
      "cell_type": "code",
      "execution_count": 22,
      "metadata": {
        "id": "5fd-WNl8-cZh"
      },
      "outputs": [],
      "source": [
        "mse_iter_sgd = mse_iter"
      ]
    },
    {
      "cell_type": "code",
      "execution_count": 23,
      "metadata": {
        "colab": {
          "base_uri": "https://localhost:8080/"
        },
        "id": "9ceHyvTFGm8e",
        "outputId": "f214b0ad-7297-473f-b508-1c961661c64e"
      },
      "outputs": [
        {
          "name": "stdout",
          "output_type": "stream",
          "text": [
            "9667\n",
            "48.90566341313149\n"
          ]
        }
      ],
      "source": [
        "mse_argmin = np.argmin(mse_iter)\n",
        "print(mse_argmin)\n",
        "print(mse_iter[mse_argmin])"
      ]
    },
    {
      "cell_type": "code",
      "execution_count": 25,
      "metadata": {
        "colab": {
          "base_uri": "https://localhost:8080/",
          "height": 279
        },
        "id": "g2KyKOXzSGIN",
        "outputId": "5dce8e4d-d6a1-4568-c16a-0ac5263ab3ad"
      },
      "outputs": [
        {
          "data": {
            "image/png": "[encoded data removed]",
            "text/plain": "<Figure size 640x480 with 1 Axes>"
          },
          "metadata": {},
          "output_type": "display_data"
        }
      ],
      "source": [
        "plt.plot(mse_iter_sgd)\n",
        "plt.yscale('symlog')\n",
        "plt.xlabel('Epoch')\n",
        "plt.ylabel('MSE')\n",
        "plt.savefig('sgd-loss.pdf')\n",
        "plt.show()"
      ]
    },
    {
      "cell_type": "code",
      "execution_count": 80,
      "metadata": {
        "colab": {
          "base_uri": "https://localhost:8080/",
          "height": 168
        },
        "id": "o4A64b5fSiLH",
        "outputId": "49b96cd8-5999-4868-ca4d-8b942342a27a"
      },
      "outputs": [
        {
          "data": {
            "text/html": [
              "<div>\n",
              "<style scoped>\n",
              "    .dataframe tbody tr th:only-of-type {\n",
              "        vertical-align: middle;\n",
              "    }\n",
              "\n",
              "    .dataframe tbody tr th {\n",
              "        vertical-align: top;\n",
              "    }\n",
              "\n",
              "    .dataframe thead th {\n",
              "        text-align: right;\n",
              "    }\n",
              "</style>\n",
              "<table border=\"1\" class=\"dataframe\">\n",
              "  <thead>\n",
              "    <tr style=\"text-align: right;\">\n",
              "      <th></th>\n",
              "      <th>MSE</th>\n",
              "    </tr>\n",
              "  </thead>\n",
              "  <tbody>\n",
              "    <tr>\n",
              "      <th>Linear</th>\n",
              "      <td>915.288358</td>\n",
              "    </tr>\n",
              "    <tr>\n",
              "      <th>RBF Closed Form</th>\n",
              "      <td>33.754672</td>\n",
              "    </tr>\n",
              "    <tr>\n",
              "      <th>RBF GD</th>\n",
              "      <td>49.234992</td>\n",
              "    </tr>\n",
              "    <tr>\n",
              "      <th>RBF SGD</th>\n",
              "      <td>48.822703</td>\n",
              "    </tr>\n",
              "  </tbody>\n",
              "</table>\n",
              "</div>"
            ],
            "text/plain": [
              "                        MSE\n",
              "Linear           915.288358\n",
              "RBF Closed Form   33.754672\n",
              "RBF GD            49.234992\n",
              "RBF SGD           48.822703"
            ]
          },
          "execution_count": 80,
          "metadata": {
            "tags": []
          },
          "output_type": "execute_result"
        }
      ],
      "source": [
        "results = pd.DataFrame({'MSE': [915.2883576634607, 33.7546720640081, 49.23499216523326, 48.822702603090676]}, index=['Linear', 'RBF Closed Form', 'RBF GD', 'RBF SGD'])\n",
        "results"
      ]
    },
    {
      "cell_type": "code",
      "execution_count": 81,
      "metadata": {
        "colab": {
          "base_uri": "https://localhost:8080/"
        },
        "id": "L_vLX1AYQe53",
        "outputId": "09af5c85-00e1-4659-d59d-3a1f010124a0"
      },
      "outputs": [
        {
          "name": "stdout",
          "output_type": "stream",
          "text": [
            "\\begin{table}\n",
            "\\centering\n",
            "\\caption{Mean squared error for regression problem.}\n",
            "\\label{tab:mse-regression}\n",
            "\\begin{tabular}{lr}\n",
            "\\toprule\n",
            "{} &         MSE \\\\\n",
            "\\midrule\n",
            "Linear          &  915.288358 \\\\\n",
            "RBF Closed Form &   33.754672 \\\\\n",
            "RBF GD          &   49.234992 \\\\\n",
            "RBF SGD         &   48.822703 \\\\\n",
            "\\bottomrule\n",
            "\\end{tabular}\n",
            "\\end{table}\n",
            "\n"
          ]
        }
      ],
      "source": [
        "print(results.to_latex(caption=\"Mean squared error for regression problem.\", label=\"tab:mse-regression\"))"
      ]
    },
    {
      "cell_type": "code",
      "execution_count": 81,
      "metadata": {
        "id": "n8xIpzE2omks"
      },
      "outputs": [],
      "source": []
    }
  ],
  "metadata": {
    "colab": {
      "authorship_tag": "ABX9TyP6dOV5Nm8PDVawqrFl51jn",
      "collapsed_sections": [],
      "include_colab_link": true,
      "name": "rbf_1.ipynb",
      "provenance": []
    },
    "kernelspec": {
      "display_name": "Python 3",
      "name": "python3"
    },
    "language_info": {
      "name": "python"
    }
  },
  "nbformat": 4,
  "nbformat_minor": 0
}